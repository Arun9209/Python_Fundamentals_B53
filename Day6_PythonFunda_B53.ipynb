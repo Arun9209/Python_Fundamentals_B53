{
 "cells": [
  {
   "cell_type": "code",
   "execution_count": 2,
   "id": "c04fc471",
   "metadata": {},
   "outputs": [],
   "source": [
    "students = ['Arun','Praveen','Katrhik','Naveen','Divya','Tabassum']"
   ]
  },
  {
   "cell_type": "code",
   "execution_count": 3,
   "id": "79fb441e",
   "metadata": {},
   "outputs": [
    {
     "name": "stdout",
     "output_type": "stream",
     "text": [
      "['Arun', 'Praveen', 'Katrhik', 'Naveen', 'Divya', 'Tabassum']\n"
     ]
    }
   ],
   "source": [
    "print(students)"
   ]
  },
  {
   "cell_type": "code",
   "execution_count": null,
   "id": "b5d9a8b9",
   "metadata": {},
   "outputs": [],
   "source": [
    "# req: i want to appreciate the above students in the list?\n"
   ]
  },
  {
   "cell_type": "code",
   "execution_count": 4,
   "id": "33097e1f",
   "metadata": {},
   "outputs": [
    {
     "name": "stdout",
     "output_type": "stream",
     "text": [
      "keep up the good work, Arun\n"
     ]
    }
   ],
   "source": [
    "print(f\"keep up the good work, {students[0]}\")"
   ]
  },
  {
   "cell_type": "code",
   "execution_count": 5,
   "id": "8e8ed517",
   "metadata": {},
   "outputs": [
    {
     "name": "stdout",
     "output_type": "stream",
     "text": [
      "keep up the good work, Arun\n"
     ]
    }
   ],
   "source": [
    "print(f\"keep up the good work, {students[0].title()}\")"
   ]
  },
  {
   "cell_type": "code",
   "execution_count": 6,
   "id": "58169924",
   "metadata": {},
   "outputs": [
    {
     "name": "stdout",
     "output_type": "stream",
     "text": [
      "keep up the good work, Praveen\n"
     ]
    }
   ],
   "source": [
    "print(f\"keep up the good work, {students[1].title()}\")"
   ]
  },
  {
   "cell_type": "code",
   "execution_count": 7,
   "id": "0c4e7a69",
   "metadata": {},
   "outputs": [
    {
     "name": "stdout",
     "output_type": "stream",
     "text": [
      "keep up the good work, Naveen\n"
     ]
    }
   ],
   "source": [
    "print(f\"keep up the good work, {students[3].title()}\")"
   ]
  },
  {
   "cell_type": "code",
   "execution_count": null,
   "id": "98f6fd74",
   "metadata": {},
   "outputs": [],
   "source": []
  },
  {
   "cell_type": "code",
   "execution_count": null,
   "id": "c52d926e",
   "metadata": {},
   "outputs": [],
   "source": [
    "introduction to looping statements:"
   ]
  },
  {
   "cell_type": "code",
   "execution_count": null,
   "id": "c5f29eeb",
   "metadata": {},
   "outputs": [],
   "source": [
    "understanding for loop:"
   ]
  },
  {
   "cell_type": "code",
   "execution_count": null,
   "id": "81a40d0a",
   "metadata": {},
   "outputs": [],
   "source": [
    "# general syntax of a for loop"
   ]
  },
  {
   "cell_type": "code",
   "execution_count": null,
   "id": "24af77d6",
   "metadata": {},
   "outputs": [],
   "source": [
    "for tempvar in mainvar:\n",
    "    print(tempvar)"
   ]
  },
  {
   "cell_type": "code",
   "execution_count": null,
   "id": "4ae1b90c",
   "metadata": {},
   "outputs": [],
   "source": [
    "tempvar -----> can be any name we are declaring x,y, ironman"
   ]
  },
  {
   "cell_type": "code",
   "execution_count": 8,
   "id": "23fd992c",
   "metadata": {},
   "outputs": [
    {
     "name": "stdout",
     "output_type": "stream",
     "text": [
      "keep up the good work, Arun\n",
      "keep up the good work, Praveen\n",
      "keep up the good work, Katrhik\n",
      "keep up the good work, Naveen\n",
      "keep up the good work, Divya\n",
      "keep up the good work, Tabassum\n"
     ]
    }
   ],
   "source": [
    "for x in students:\n",
    "    print(f\"keep up the good work, {x}\")"
   ]
  },
  {
   "cell_type": "code",
   "execution_count": 10,
   "id": "966b2f22",
   "metadata": {},
   "outputs": [
    {
     "name": "stdout",
     "output_type": "stream",
     "text": [
      "HDFC Bank wishes you a happy new year, Arun\n",
      "HDFC Bank wishes you a happy new year, Praveen\n",
      "HDFC Bank wishes you a happy new year, Katrhik\n",
      "HDFC Bank wishes you a happy new year, Naveen\n",
      "HDFC Bank wishes you a happy new year, Divya\n",
      "HDFC Bank wishes you a happy new year, Tabassum\n"
     ]
    }
   ],
   "source": [
    "for a in students:\n",
    "    print(f\"HDFC Bank wishes you a happy new year, {a}\")"
   ]
  },
  {
   "cell_type": "code",
   "execution_count": null,
   "id": "d7053542",
   "metadata": {},
   "outputs": [],
   "source": [
    "# enhancement  of the code.\n"
   ]
  },
  {
   "cell_type": "code",
   "execution_count": null,
   "id": "258f7b8c",
   "metadata": {},
   "outputs": [],
   "source": [
    "# req: to convey that i am looking forward to receive the practice file of today"
   ]
  },
  {
   "cell_type": "code",
   "execution_count": 11,
   "id": "14ab4858",
   "metadata": {},
   "outputs": [
    {
     "name": "stdout",
     "output_type": "stream",
     "text": [
      "keep up the good work, Arun\n",
      "i am looking to receive your practice file of today, Arun\n",
      "keep up the good work, Praveen\n",
      "i am looking to receive your practice file of today, Praveen\n",
      "keep up the good work, Katrhik\n",
      "i am looking to receive your practice file of today, Katrhik\n",
      "keep up the good work, Naveen\n",
      "i am looking to receive your practice file of today, Naveen\n",
      "keep up the good work, Divya\n",
      "i am looking to receive your practice file of today, Divya\n",
      "keep up the good work, Tabassum\n",
      "i am looking to receive your practice file of today, Tabassum\n"
     ]
    }
   ],
   "source": [
    "for x in students:\n",
    "    print(f\"keep up the good work, {x}\")\n",
    "    print(f\"i am looking to receive your practice file of today, {x}\")"
   ]
  },
  {
   "cell_type": "code",
   "execution_count": 12,
   "id": "69bb9cf0",
   "metadata": {},
   "outputs": [
    {
     "name": "stdout",
     "output_type": "stream",
     "text": [
      "keep up the good work, Arun\n",
      "i am looking to receive your practice file of today, Arun\n",
      "\n",
      "keep up the good work, Praveen\n",
      "i am looking to receive your practice file of today, Praveen\n",
      "\n",
      "keep up the good work, Katrhik\n",
      "i am looking to receive your practice file of today, Katrhik\n",
      "\n",
      "keep up the good work, Naveen\n",
      "i am looking to receive your practice file of today, Naveen\n",
      "\n",
      "keep up the good work, Divya\n",
      "i am looking to receive your practice file of today, Divya\n",
      "\n",
      "keep up the good work, Tabassum\n",
      "i am looking to receive your practice file of today, Tabassum\n",
      "\n"
     ]
    }
   ],
   "source": [
    "for x in students:\n",
    "    print(f\"keep up the good work, {x}\")\n",
    "    print(f\"i am looking to receive your practice file of today, {x}\\n\")"
   ]
  },
  {
   "cell_type": "code",
   "execution_count": 13,
   "id": "4d1de2dc",
   "metadata": {},
   "outputs": [
    {
     "name": "stdout",
     "output_type": "stream",
     "text": [
      "keep up the good work, Arun\n",
      "\n",
      "i am looking to receive your practice file of today, Arun\n",
      "\n",
      "\n",
      "keep up the good work, Praveen\n",
      "\n",
      "i am looking to receive your practice file of today, Praveen\n",
      "\n",
      "\n",
      "keep up the good work, Katrhik\n",
      "\n",
      "i am looking to receive your practice file of today, Katrhik\n",
      "\n",
      "\n",
      "keep up the good work, Naveen\n",
      "\n",
      "i am looking to receive your practice file of today, Naveen\n",
      "\n",
      "\n",
      "keep up the good work, Divya\n",
      "\n",
      "i am looking to receive your practice file of today, Divya\n",
      "\n",
      "\n",
      "keep up the good work, Tabassum\n",
      "\n",
      "i am looking to receive your practice file of today, Tabassum\n",
      "\n",
      "\n"
     ]
    }
   ],
   "source": [
    "for x in students:\n",
    "    print(f\"keep up the good work, {x}\\n\")\n",
    "    print(f\"i am looking to receive your practice file of today, {x}\\n\\n\")"
   ]
  },
  {
   "cell_type": "code",
   "execution_count": null,
   "id": "8b92bb08",
   "metadata": {},
   "outputs": [],
   "source": [
    "writing in the loop: ----> applied to all the elements in the list\n",
    "    "
   ]
  },
  {
   "cell_type": "code",
   "execution_count": null,
   "id": "b190dd4f",
   "metadata": {},
   "outputs": [],
   "source": [
    "writing out of the loop "
   ]
  },
  {
   "cell_type": "code",
   "execution_count": 14,
   "id": "47766820",
   "metadata": {},
   "outputs": [
    {
     "name": "stdout",
     "output_type": "stream",
     "text": [
      "keep up the good work, Arun\n",
      "i am looking to receive your practice file of today, Arun\n",
      "\n",
      "keep up the good work, Praveen\n",
      "i am looking to receive your practice file of today, Praveen\n",
      "\n",
      "keep up the good work, Katrhik\n",
      "i am looking to receive your practice file of today, Katrhik\n",
      "\n",
      "keep up the good work, Naveen\n",
      "i am looking to receive your practice file of today, Naveen\n",
      "\n",
      "keep up the good work, Divya\n",
      "i am looking to receive your practice file of today, Divya\n",
      "\n",
      "keep up the good work, Tabassum\n",
      "i am looking to receive your practice file of today, Tabassum\n",
      "\n",
      "Thanks for Joining the session today\n"
     ]
    }
   ],
   "source": [
    "for x in students:\n",
    "    print(f\"keep up the good work, {x}\")\n",
    "    print(f\"i am looking to receive your practice file of today, {x}\\n\")\n",
    "print(\"Thanks for Joining the session today\")"
   ]
  },
  {
   "cell_type": "code",
   "execution_count": null,
   "id": "1af50145",
   "metadata": {},
   "outputs": [],
   "source": []
  },
  {
   "cell_type": "code",
   "execution_count": null,
   "id": "ccfac761",
   "metadata": {},
   "outputs": [],
   "source": []
  },
  {
   "cell_type": "code",
   "execution_count": null,
   "id": "5f046754",
   "metadata": {},
   "outputs": [],
   "source": []
  },
  {
   "cell_type": "code",
   "execution_count": null,
   "id": "51629964",
   "metadata": {},
   "outputs": [],
   "source": []
  }
 ],
 "metadata": {
  "kernelspec": {
   "display_name": "Python 3",
   "language": "python",
   "name": "python3"
  },
  "language_info": {
   "codemirror_mode": {
    "name": "ipython",
    "version": 3
   },
   "file_extension": ".py",
   "mimetype": "text/x-python",
   "name": "python",
   "nbconvert_exporter": "python",
   "pygments_lexer": "ipython3",
   "version": "3.8.8"
  }
 },
 "nbformat": 4,
 "nbformat_minor": 5
}
