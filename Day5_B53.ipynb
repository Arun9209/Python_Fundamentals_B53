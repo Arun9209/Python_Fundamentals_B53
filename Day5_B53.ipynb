{
 "cells": [
  {
   "cell_type": "code",
   "execution_count": null,
   "id": "fc3ab91d",
   "metadata": {},
   "outputs": [],
   "source": [
    "continuation with lists:\n",
    "    "
   ]
  },
  {
   "cell_type": "code",
   "execution_count": null,
   "id": "d8882eb6",
   "metadata": {},
   "outputs": [],
   "source": [
    "organising thelist datatype"
   ]
  },
  {
   "cell_type": "code",
   "execution_count": 1,
   "id": "dc45319d",
   "metadata": {},
   "outputs": [],
   "source": [
    "cars = ['bmw','suzuki','audi','benz','duster','ciaz']"
   ]
  },
  {
   "cell_type": "code",
   "execution_count": 2,
   "id": "f8a410e1",
   "metadata": {},
   "outputs": [
    {
     "name": "stdout",
     "output_type": "stream",
     "text": [
      "['bmw', 'suzuki', 'audi', 'benz', 'duster', 'ciaz']\n"
     ]
    }
   ],
   "source": [
    "print(cars)\n"
   ]
  },
  {
   "cell_type": "code",
   "execution_count": null,
   "id": "29f4328b",
   "metadata": {},
   "outputs": [],
   "source": [
    "# req: i want to organise the above list in a alphabetical order----> A to Z"
   ]
  },
  {
   "cell_type": "code",
   "execution_count": null,
   "id": "29fa67f3",
   "metadata": {},
   "outputs": [],
   "source": [
    "2 approaches: "
   ]
  },
  {
   "cell_type": "code",
   "execution_count": null,
   "id": "feb82099",
   "metadata": {},
   "outputs": [],
   "source": [
    "1: temporary approach ----> sorted --- we will be having original order of the list\n",
    "2: permanent approach ----> sort() --- changes applied are permanent, cannot gop  back to the original order."
   ]
  },
  {
   "cell_type": "code",
   "execution_count": 3,
   "id": "f2787914",
   "metadata": {},
   "outputs": [
    {
     "name": "stdout",
     "output_type": "stream",
     "text": [
      "['audi', 'benz', 'bmw', 'ciaz', 'duster', 'suzuki']\n"
     ]
    }
   ],
   "source": [
    "print(sorted(cars))   # A to Z order is being followed"
   ]
  },
  {
   "cell_type": "code",
   "execution_count": 4,
   "id": "990379e3",
   "metadata": {},
   "outputs": [
    {
     "name": "stdout",
     "output_type": "stream",
     "text": [
      "['bmw', 'suzuki', 'audi', 'benz', 'duster', 'ciaz']\n"
     ]
    }
   ],
   "source": [
    "print(cars)   # original order"
   ]
  },
  {
   "cell_type": "code",
   "execution_count": 5,
   "id": "7cadc9f2",
   "metadata": {},
   "outputs": [],
   "source": [
    "cars.sort()"
   ]
  },
  {
   "cell_type": "code",
   "execution_count": 6,
   "id": "53e29ad1",
   "metadata": {},
   "outputs": [
    {
     "name": "stdout",
     "output_type": "stream",
     "text": [
      "['audi', 'benz', 'bmw', 'ciaz', 'duster', 'suzuki']\n"
     ]
    }
   ],
   "source": [
    "print(cars)"
   ]
  },
  {
   "cell_type": "code",
   "execution_count": 7,
   "id": "dde9ef15",
   "metadata": {},
   "outputs": [
    {
     "name": "stdout",
     "output_type": "stream",
     "text": [
      "['audi', 'benz', 'bmw', 'ciaz', 'duster', 'suzuki']\n"
     ]
    }
   ],
   "source": [
    "print(cars)"
   ]
  },
  {
   "cell_type": "code",
   "execution_count": null,
   "id": "d07c1fe4",
   "metadata": {},
   "outputs": [],
   "source": [
    "interview question:  can you please exp the diff between sorted and sort methods in a list... "
   ]
  },
  {
   "cell_type": "code",
   "execution_count": null,
   "id": "6935fdbc",
   "metadata": {},
   "outputs": [],
   "source": [
    "# req : i want to print the list the opposite way/reverse order...?\n"
   ]
  },
  {
   "cell_type": "code",
   "execution_count": 8,
   "id": "385188c9",
   "metadata": {},
   "outputs": [],
   "source": [
    "cars.reverse()"
   ]
  },
  {
   "cell_type": "code",
   "execution_count": 9,
   "id": "7f29f0cc",
   "metadata": {},
   "outputs": [
    {
     "name": "stdout",
     "output_type": "stream",
     "text": [
      "['suzuki', 'duster', 'ciaz', 'bmw', 'benz', 'audi']\n"
     ]
    }
   ],
   "source": [
    "print(cars)"
   ]
  },
  {
   "cell_type": "code",
   "execution_count": null,
   "id": "1f03d71a",
   "metadata": {},
   "outputs": [],
   "source": [
    "# req: how to count the no of elements in a list...?"
   ]
  },
  {
   "cell_type": "code",
   "execution_count": 10,
   "id": "11eb2154",
   "metadata": {},
   "outputs": [
    {
     "data": {
      "text/plain": [
       "6"
      ]
     },
     "execution_count": 10,
     "metadata": {},
     "output_type": "execute_result"
    }
   ],
   "source": [
    "len(cars)"
   ]
  },
  {
   "cell_type": "code",
   "execution_count": null,
   "id": "7e2a0a6c",
   "metadata": {},
   "outputs": [],
   "source": [
    "introduction to slicing:"
   ]
  },
  {
   "cell_type": "code",
   "execution_count": 11,
   "id": "822cd9ce",
   "metadata": {},
   "outputs": [],
   "source": [
    "students = ['bhargav','nikil','abdul','naveen','huda','divya']"
   ]
  },
  {
   "cell_type": "code",
   "execution_count": 12,
   "id": "7e304254",
   "metadata": {},
   "outputs": [
    {
     "name": "stdout",
     "output_type": "stream",
     "text": [
      "['bhargav', 'nikil', 'abdul', 'naveen', 'huda', 'divya']\n"
     ]
    }
   ],
   "source": [
    "print(students)"
   ]
  },
  {
   "cell_type": "code",
   "execution_count": null,
   "id": "b1f57793",
   "metadata": {},
   "outputs": [],
   "source": [
    "general syntax of slicing:"
   ]
  },
  {
   "cell_type": "code",
   "execution_count": null,
   "id": "4a01d727",
   "metadata": {},
   "outputs": [],
   "source": [
    "startvalue:stopvalue:stopcount\n",
    "note: stopvalue is always exclusive, to include the stop value we have to add +1."
   ]
  },
  {
   "cell_type": "code",
   "execution_count": null,
   "id": "c8493ca3",
   "metadata": {},
   "outputs": [],
   "source": [
    "# req:  i want to add bhargav and nikil in a slice...?"
   ]
  },
  {
   "cell_type": "code",
   "execution_count": 13,
   "id": "4067f716",
   "metadata": {},
   "outputs": [
    {
     "name": "stdout",
     "output_type": "stream",
     "text": [
      "['bhargav']\n"
     ]
    }
   ],
   "source": [
    "print(students[0:1])"
   ]
  },
  {
   "cell_type": "code",
   "execution_count": 14,
   "id": "d98a0f3a",
   "metadata": {},
   "outputs": [
    {
     "name": "stdout",
     "output_type": "stream",
     "text": [
      "['bhargav', 'nikil']\n"
     ]
    }
   ],
   "source": [
    "print(students[0:2])"
   ]
  },
  {
   "cell_type": "code",
   "execution_count": null,
   "id": "c49a9247",
   "metadata": {},
   "outputs": [],
   "source": [
    "# req:  i want to add abdul and naveen in a slice...?"
   ]
  },
  {
   "cell_type": "code",
   "execution_count": 15,
   "id": "3750f78f",
   "metadata": {},
   "outputs": [
    {
     "name": "stdout",
     "output_type": "stream",
     "text": [
      "['abdul', 'naveen']\n"
     ]
    }
   ],
   "source": [
    "print(students[2:4])"
   ]
  },
  {
   "cell_type": "code",
   "execution_count": null,
   "id": "829690e0",
   "metadata": {},
   "outputs": [],
   "source": [
    "# req:  i want to add huda and divya in a slice...?"
   ]
  },
  {
   "cell_type": "code",
   "execution_count": 16,
   "id": "1de364de",
   "metadata": {},
   "outputs": [
    {
     "name": "stdout",
     "output_type": "stream",
     "text": [
      "['huda', 'divya']\n"
     ]
    }
   ],
   "source": [
    "print(students[4:6])"
   ]
  },
  {
   "cell_type": "code",
   "execution_count": 17,
   "id": "2dc1ecf2",
   "metadata": {},
   "outputs": [
    {
     "name": "stdout",
     "output_type": "stream",
     "text": [
      "['bhargav', 'nikil', 'abdul', 'naveen', 'huda', 'divya']\n"
     ]
    }
   ],
   "source": [
    "print(students)"
   ]
  },
  {
   "cell_type": "code",
   "execution_count": 18,
   "id": "2a374c12",
   "metadata": {},
   "outputs": [
    {
     "name": "stdout",
     "output_type": "stream",
     "text": [
      "['bhargav', 'abdul', 'huda']\n"
     ]
    }
   ],
   "source": [
    "print(students[0:6:2])"
   ]
  },
  {
   "cell_type": "code",
   "execution_count": null,
   "id": "49fd810e",
   "metadata": {},
   "outputs": [],
   "source": []
  },
  {
   "cell_type": "code",
   "execution_count": null,
   "id": "818dcaeb",
   "metadata": {},
   "outputs": [],
   "source": []
  },
  {
   "cell_type": "code",
   "execution_count": null,
   "id": "f24dceec",
   "metadata": {},
   "outputs": [],
   "source": []
  },
  {
   "cell_type": "code",
   "execution_count": null,
   "id": "5086f60b",
   "metadata": {},
   "outputs": [],
   "source": []
  }
 ],
 "metadata": {
  "kernelspec": {
   "display_name": "Python 3",
   "language": "python",
   "name": "python3"
  },
  "language_info": {
   "codemirror_mode": {
    "name": "ipython",
    "version": 3
   },
   "file_extension": ".py",
   "mimetype": "text/x-python",
   "name": "python",
   "nbconvert_exporter": "python",
   "pygments_lexer": "ipython3",
   "version": "3.8.8"
  }
 },
 "nbformat": 4,
 "nbformat_minor": 5
}
